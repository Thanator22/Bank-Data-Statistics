{
 "cells": [
  {
   "cell_type": "code",
   "execution_count": 154,
   "metadata": {},
   "outputs": [],
   "source": [
    "import pandas as pd\n",
    "import numpy as np\n",
    "import math\n",
    "import datetime\n",
    "df = pd.read_excel (r'Data\\Indian Boards Data as on 31-Mar-2019.xlsx')\n",
    "df2 = pd.read_excel (r'Data\\EduList (2).xlsx')"
   ]
  },
  {
   "cell_type": "code",
   "execution_count": 155,
   "metadata": {},
   "outputs": [],
   "source": [
    "#function to check nan float values in dob column\n",
    "def isNaN(num):\n",
    "    return num != num"
   ]
  },
  {
   "cell_type": "code",
   "execution_count": 156,
   "metadata": {},
   "outputs": [],
   "source": [
    "Age = []\n",
    "A_date = []\n",
    "datet = []\n",
    "for i in range(0, len(df)):\n",
    "    dob = df['Date of Birth'][i]\n",
    "    appoin_date = df['Appointment Date'][i]\n",
    "    if(isNaN(dob)):\n",
    "        dob = 2019\n",
    "    else:\n",
    "        dob = dob[-4:]\n",
    "    Age.append(2019 - int(dob))\n",
    "    appoin_date = appoin_date[-4:]\n",
    "    A_date.append(2019 - int(appoin_date))\n",
    "    #converting the string date to datetime format\n",
    "    datet.append(datetime.datetime.strptime(df['Appointment Date'][i].replace('-',' '), '%d %b %Y'))\n",
    "#creating new columns in dataframe and appending them with their respective values \n",
    "df['Age'] = Age\n",
    "df['Tenure'] = A_date\n",
    "#replacing the original values with new one's\n",
    "df['Gender'] = df['Gender'].replace(['M'], 0)\n",
    "df['Gender'] = df['Gender'].replace(['F'], 1)\n",
    "\n",
    "df['Appointment Date'] = datet\n",
    "\n",
    "df['Independent (Yes/No)'] = df['Independent (Yes/No)'].replace(['NO'], 0)\n",
    "df['Independent (Yes/No)'] = df['Independent (Yes/No)'].replace(['YES'], 1)\n",
    "\n",
    "df['Member of Civil Services'] = df['Member of Civil Services'].replace(['IAS', 'IES', 'IRS', 'ISS', 'IPS', 'IA&AS', 'IFS','IPOS', 'IRPS'], 1)\n",
    "df['Member of Civil Services'] = df['Member of Civil Services'].replace(['NONE'],0)\n",
    "df['Member of Civil Services'] = df['Member of Civil Services'].fillna(0)"
   ]
  },
  {
   "cell_type": "code",
   "execution_count": 157,
   "metadata": {},
   "outputs": [],
   "source": [
    "bank_names = df['Company'].unique()\n",
    "for i in range(len(bank_names)):\n",
    "    if(bank_names[i][-4:] == 'LTD.'):\n",
    "        bank_names[i] = bank_names[i][:-5]\n",
    "    if(bank_names[i][-8:] == 'LTD.,THE'):\n",
    "        bank_names[i] = bank_names[i][:-9]\n",
    "present = []\n",
    "for i in range(0,len(df)):\n",
    "    flag = 0\n",
    "    if(isNaN(df['Brief Profile'][i])):\n",
    "        present.append(np.nan)\n",
    "        continue;\n",
    "    else:\n",
    "        for j in range(0,len(bank_names)):\n",
    "            \n",
    "            if(df['Brief Profile'][i].find(bank_names[j]) != -1 and flag==0):\n",
    "                if(df['Company'][i] != bank_names[j]):\n",
    "                    present.append(1)\n",
    "                    flag=1\n",
    "        if(flag==0):\n",
    "            present.append(np.nan)\n",
    "df['Other_banking_exp'] = present"
   ]
  },
  {
   "cell_type": "markdown",
   "metadata": {},
   "source": [
    "Refining dataframe"
   ]
  },
  {
   "cell_type": "code",
   "execution_count": 158,
   "metadata": {},
   "outputs": [],
   "source": [
    "df2=df2[['Unique_Degrees', 'Finance/Business Oriented (Yes/No,1/0)']]\n",
    "df2.rename(columns = {'Finance/Business Oriented (Yes/No,1/0)':'value'}, inplace = True)\n",
    "df2=df2[df2.value != 0]\n",
    "df2=df2.reset_index()[['Unique_Degrees','value']]"
   ]
  },
  {
   "cell_type": "markdown",
   "metadata": {},
   "source": [
    "Section for checking the specific qualifications against each row"
   ]
  },
  {
   "cell_type": "code",
   "execution_count": 159,
   "metadata": {},
   "outputs": [],
   "source": [
    "present = []\n",
    "for i in range(0,len(df)):\n",
    "    flag = 0;\n",
    "    y = [k for k in df[df.columns[15:25]].iloc[i] if str(k) != 'nan']\n",
    "    for j in range(0,len(df2)):\n",
    "        if(df2.iloc[j][0] in y and flag==0):\n",
    "            present.append(1)\n",
    "            flag=1\n",
    "            break\n",
    "    if(flag==0):\n",
    "        present.append(0)\n",
    "df[ \"Fin/Mgmt/Econ Degree\"] = present"
   ]
  },
  {
   "cell_type": "code",
   "execution_count": 161,
   "metadata": {},
   "outputs": [],
   "source": []
  },
  {
   "cell_type": "code",
   "execution_count": null,
   "metadata": {},
   "outputs": [],
   "source": []
  }
 ],
 "metadata": {
  "kernelspec": {
   "display_name": "Python 3",
   "language": "python",
   "name": "python3"
  },
  "language_info": {
   "codemirror_mode": {
    "name": "ipython",
    "version": 3
   },
   "file_extension": ".py",
   "mimetype": "text/x-python",
   "name": "python",
   "nbconvert_exporter": "python",
   "pygments_lexer": "ipython3",
   "version": "3.7.4"
  }
 },
 "nbformat": 4,
 "nbformat_minor": 2
}
