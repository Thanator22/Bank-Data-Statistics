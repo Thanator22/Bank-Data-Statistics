{
 "cells": [
  {
   "cell_type": "code",
   "execution_count": 198,
   "metadata": {},
   "outputs": [],
   "source": [
    "import pandas as pd\n",
    "import numpy as np\n",
    "import math\n",
    "import datetime\n",
    "df = pd.read_excel (r'Data\\Indian Boards Data as on 31-Mar-2019.xlsx')\n"
   ]
  },
  {
   "cell_type": "code",
   "execution_count": 199,
   "metadata": {},
   "outputs": [],
   "source": [
    "#function to check nan float values in dob column\n",
    "def isNaN(num):\n",
    "    return num != num"
   ]
  },
  {
   "cell_type": "code",
   "execution_count": 201,
   "metadata": {},
   "outputs": [],
   "source": [
    "Age = []\n",
    "A_date = []\n",
    "datet = []\n",
    "for i in range(0, len(df)):\n",
    "    dob = df['Date of Birth'][i]\n",
    "    appoin_date = df['Appointment Date'][i]\n",
    "    if(isNaN(dob)):\n",
    "        dob = 2019\n",
    "    else:\n",
    "        dob = dob[-4:]\n",
    "    Age.append(2019 - int(dob))\n",
    "    appoin_date = appoin_date[-4:]\n",
    "    A_date.append(2019 - int(appoin_date))\n",
    "    #converting the string date to datetime format\n",
    "    datet.append(datetime.datetime.strptime(df['Appointment Date'][i].replace('-',' '), '%d %b %Y'))\n",
    "#creating new columns in dataframe and appending them with their respective values \n",
    "df['Age'] = Age\n",
    "df['Tenure'] = A_date\n",
    "#replacing the original values with new one's\n",
    "df['Gender'] = df['Gender'].replace(['M'], 0)\n",
    "df['Gender'] = df['Gender'].replace(['F'], 1)\n",
    "\n",
    "df['Appointment Date'] = datet\n",
    "\n",
    "df['Independent (Yes/No)'] = df['Independent (Yes/No)'].replace(['NO'], 0)\n",
    "df['Independent (Yes/No)'] = df['Independent (Yes/No)'].replace(['YES'], 1)\n",
    "\n",
    "df['Member of Civil Services'] = df['Member of Civil Services'].replace(['IAS', 'IES', 'IRS', 'ISS', 'IPS', 'IA&AS', 'IFS','IPOS', 'IRPS'], 1)\n",
    "df['Member of Civil Services'] = df['Member of Civil Services'].replace(['NONE'],0)\n",
    "df['Member of Civil Services'] = df['Member of Civil Services'].fillna(0)"
   ]
  },
  {
   "cell_type": "code",
   "execution_count": null,
   "metadata": {},
   "outputs": [],
   "source": []
  }
 ],
 "metadata": {
  "kernelspec": {
   "display_name": "Python 3",
   "language": "python",
   "name": "python3"
  },
  "language_info": {
   "codemirror_mode": {
    "name": "ipython",
    "version": 3
   },
   "file_extension": ".py",
   "mimetype": "text/x-python",
   "name": "python",
   "nbconvert_exporter": "python",
   "pygments_lexer": "ipython3",
   "version": "3.7.4"
  }
 },
 "nbformat": 4,
 "nbformat_minor": 2
}
